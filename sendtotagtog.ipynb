{
 "cells": [
  {
   "cell_type": "code",
   "execution_count": 1,
   "metadata": {},
   "outputs": [],
   "source": [
    "import zipfile\n",
    "\n",
    "zipfile_ = zipfile.ZipFile('./data.zip')\n",
    "zipfile_.extractall('./data/')"
   ]
  },
  {
   "cell_type": "code",
   "execution_count": 6,
   "metadata": {},
   "outputs": [
    {
     "name": "stdout",
     "output_type": "stream",
     "text": [
      "['평영.txt', '자전거.txt', '자유형.txt', '체조.txt', '태권도.txt', '조정.txt', '카누.txt', '플뢰레.txt', '혼영.txt', '펜싱.txt', '크롤.txt', '육상.txt', '피겨스케이팅.txt', '접영.txt']\n"
     ]
    }
   ],
   "source": [
    "import os\n",
    "dir_path = './data/'\n",
    "flist = os.listdir(dir_path)\n",
    "print(flist)"
   ]
  },
  {
   "cell_type": "code",
   "execution_count": 7,
   "metadata": {},
   "outputs": [],
   "source": [
    "splited = []\n",
    "\n",
    "for fname in flist:\n",
    "    f = open(os.path.join(dir_path, fname), 'r', encoding='utf-8')\n",
    "    text = f.read()\n",
    "    text = text.split('\\n')\n",
    "    text = list(filter(None, text))\n",
    "    for i in range(len(text)):\n",
    "        text[i] = text[i].strip()\n",
    "        splited.append(text[i])"
   ]
  },
  {
   "cell_type": "code",
   "execution_count": null,
   "metadata": {},
   "outputs": [],
   "source": [
    "len(splited)"
   ]
  },
  {
   "cell_type": "code",
   "execution_count": 9,
   "metadata": {},
   "outputs": [],
   "source": [
    "for i, line in enumerate(splited):\n",
    "    with open(f'./files/item{i}.txt', 'w', encoding='utf-8') as f:\n",
    "        f.write(line)"
   ]
  },
  {
   "cell_type": "code",
   "execution_count": null,
   "metadata": {},
   "outputs": [],
   "source": [
    "import requests\n",
    "\n",
    "tagtogAPIUrl = \"https://www.tagtog.net/-api/documents/v1\"\n",
    "\n",
    "auth = requests.auth.HTTPBasicAuth(username=\"emeraldgoose\", password=\"*****\")\n",
    "params = {\"owner\": \"emeraldgoose\", \"project\": \"test\", \"output\": \"null\"}\n",
    "\n",
    "files = []\n",
    "for i in range(len(splited)):\n",
    "    files.append((\"files\", open(f'./files/item{i}.txt')))\n",
    "\n",
    "response = requests.post(tagtogAPIUrl, params=params, auth=auth, files=files)\n",
    "print(response.text)"
   ]
  }
 ],
 "metadata": {
  "interpreter": {
   "hash": "d4d1e4263499bec80672ea0156c357c1ee493ec2b1c70f0acce89fc37c4a6abe"
  },
  "kernelspec": {
   "display_name": "Python 3.8.5 64-bit ('base': conda)",
   "language": "python",
   "name": "python3"
  },
  "language_info": {
   "codemirror_mode": {
    "name": "ipython",
    "version": 3
   },
   "file_extension": ".py",
   "mimetype": "text/x-python",
   "name": "python",
   "nbconvert_exporter": "python",
   "pygments_lexer": "ipython3",
   "version": "3.8.5"
  },
  "orig_nbformat": 4
 },
 "nbformat": 4,
 "nbformat_minor": 2
}
