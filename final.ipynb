{
 "cells": [
  {
   "cell_type": "code",
   "execution_count": 131,
   "metadata": {},
   "outputs": [],
   "source": [
    "import zipfile\n",
    "\n",
    "zipfile_ = zipfile.ZipFile('./tagtog_test.zip')\n",
    "zipfile_.extractall('./tagtog')"
   ]
  },
  {
   "cell_type": "code",
   "execution_count": 132,
   "metadata": {},
   "outputs": [],
   "source": [
    "sentence_path = './tagtog/test/plain.html/pool/'\n",
    "tagging_path = './tagtog/test/ann.json/master/pool/'"
   ]
  },
  {
   "cell_type": "code",
   "execution_count": 133,
   "metadata": {},
   "outputs": [],
   "source": [
    "import os\n",
    "tag_flist = os.listdir(tagging_path)\n"
   ]
  },
  {
   "cell_type": "code",
   "execution_count": 134,
   "metadata": {},
   "outputs": [],
   "source": [
    "for i in range(len(tag_flist)):\n",
    "    tag_flist[i]=tag_flist[i][:len(tag_flist[i])-9]\n",
    "    "
   ]
  },
  {
   "cell_type": "code",
   "execution_count": 135,
   "metadata": {},
   "outputs": [
    {
     "data": {
      "text/plain": [
       "'./tagtog/test/plain.html/pool/aOP0dRaYnjimmjEqwvCj57w8Z_4C-item397.txt.plain.html'"
      ]
     },
     "execution_count": 135,
     "metadata": {},
     "output_type": "execute_result"
    }
   ],
   "source": [
    "os.path.join(sentence_path, tag_flist[0]+'.plain.html')"
   ]
  },
  {
   "cell_type": "code",
   "execution_count": 136,
   "metadata": {},
   "outputs": [],
   "source": [
    "import json\n",
    "\n",
    "class_path = './tagtog/test/annotations-legend.json'\n",
    "\n",
    "with open(class_path, 'r') as f:\n",
    "    m = json.load(f)"
   ]
  },
  {
   "cell_type": "code",
   "execution_count": 137,
   "metadata": {},
   "outputs": [],
   "source": [
    "import pandas as pd\n",
    "\n",
    "df = pd.DataFrame(columns=['id','sentence','subject_entity','object_entity'])\n"
   ]
  },
  {
   "cell_type": "code",
   "execution_count": 138,
   "metadata": {},
   "outputs": [],
   "source": [
    "reject_1 = [] # entity 개수가 2개가 아닌 경우\n",
    "reject_2 = [] # subject, subject로 태깅된 경우\n",
    "reject_3 = [] # object, object로 태깅된 경우"
   ]
  },
  {
   "cell_type": "code",
   "execution_count": 139,
   "metadata": {},
   "outputs": [],
   "source": [
    "# read html\n",
    "import re\n",
    "import json\n",
    "\n",
    "temp = []\n",
    "\n",
    "for i in range(len(tag_flist)):\n",
    "    with open(os.path.join(sentence_path, tag_flist[i]+'.plain.html'), 'r') as f:\n",
    "        text = f.read()\n",
    "        sentence = re.findall(\"(<pre.+>)(.+)(</pre>)\",text)[0][1]\n",
    "    \n",
    "    with open(os.path.join(tagging_path, tag_flist[i]+'.ann.json'), 'r') as f:\n",
    "        text = json.load(f)\n",
    "\n",
    "    if len(text['entities']) != 2:\n",
    "        reject_1.append(sentence)\n",
    "        continue\n",
    "\n",
    "    first_idx = text['entities'][0]['offsets'][0]['start']\n",
    "    first = text['entities'][0]['offsets'][0]['text']\n",
    "    first_type = m[text['entities'][0]['classId']]\n",
    "\n",
    "    second_idx = text['entities'][1]['offsets'][0]['start']\n",
    "    second = text['entities'][1]['offsets'][0]['text']\n",
    "    second_type = m[text['entities'][1]['classId']]\n",
    "\n",
    "    if 'SUB' in first_type and 'SUB' in second_type: \n",
    "        reject_2.append(sentence)\n",
    "        continue\n",
    "    if 'OBJ' in first_type and 'OBJ' in second_type: \n",
    "        reject_3.append(sentence)\n",
    "        continue\n",
    "\n",
    "    if 'SUB' in first_type:\n",
    "        subject = dict(word=first, start_idx=first_idx, end_idx=first_idx+len(first)-1, type=first_type[:3])\n",
    "        object = dict(word=second, start_idx=second_idx, end_idx=second_idx+len(second)-1, type=second_type[:3])\n",
    "    elif 'SUB' in second_type:\n",
    "        subject = dict(word=second, start_idx=second_idx, end_idx=second_idx+len(second)-1, type=second_type[:3])\n",
    "        object = dict(word=first, start_idx=first_idx, end_idx=first_idx+len(first)-1, type=first_type[:3])\n",
    "    \n",
    "    df = df.append({'id':i, 'sentence':sentence, 'subject_entity':subject, 'object_entity':object}, ignore_index=True)    \n"
   ]
  },
  {
   "cell_type": "code",
   "execution_count": 140,
   "metadata": {},
   "outputs": [
    {
     "data": {
      "text/html": [
       "<div>\n",
       "<style scoped>\n",
       "    .dataframe tbody tr th:only-of-type {\n",
       "        vertical-align: middle;\n",
       "    }\n",
       "\n",
       "    .dataframe tbody tr th {\n",
       "        vertical-align: top;\n",
       "    }\n",
       "\n",
       "    .dataframe thead th {\n",
       "        text-align: right;\n",
       "    }\n",
       "</style>\n",
       "<table border=\"1\" class=\"dataframe\">\n",
       "  <thead>\n",
       "    <tr style=\"text-align: right;\">\n",
       "      <th></th>\n",
       "      <th>id</th>\n",
       "      <th>sentence</th>\n",
       "      <th>subject_entity</th>\n",
       "      <th>object_entity</th>\n",
       "    </tr>\n",
       "  </thead>\n",
       "  <tbody>\n",
       "    <tr>\n",
       "      <th>0</th>\n",
       "      <td>0</td>\n",
       "      <td>뜀뛰기 운동에는 멀리뛰기·높이뛰기·3단뛰기·장대높이뛰기 등이 있는데 내용과 방법이 ...</td>\n",
       "      <td>{'word': '뜀뛰기', 'start_idx': 0, 'end_idx': 2, ...</td>\n",
       "      <td>{'word': '도움닫기', 'start_idx': 64, 'end_idx': 6...</td>\n",
       "    </tr>\n",
       "    <tr>\n",
       "      <th>1</th>\n",
       "      <td>1</td>\n",
       "      <td>앤빌 코러스(Anvil Chorus)는 아령 체조의 하나. 간단한 다리 운동 및 뜀...</td>\n",
       "      <td>{'word': '앤빌 코러스(Anvil Chorus)', 'start_idx': ...</td>\n",
       "      <td>{'word': '율동 체조', 'start_idx': 106, 'end_idx':...</td>\n",
       "    </tr>\n",
       "    <tr>\n",
       "      <th>2</th>\n",
       "      <td>2</td>\n",
       "      <td>레이백(layback) 스핀은 주로 여성들이 하는 업라이트 스핀으로서 등을 뒤로 하...</td>\n",
       "      <td>{'word': '레이백(layback) 스핀', 'start_idx': 0, 'e...</td>\n",
       "      <td>{'word': '업라이트 스핀', 'start_idx': 28, 'end_idx'...</td>\n",
       "    </tr>\n",
       "    <tr>\n",
       "      <th>3</th>\n",
       "      <td>3</td>\n",
       "      <td>이런 영법은 실제로는 대부분 자유형 종목에서 사용되는 크롤 영법을 가리킨다.</td>\n",
       "      <td>{'word': '자유형', 'start_idx': 16, 'end_idx': 18...</td>\n",
       "      <td>{'word': '크롤 영법', 'start_idx': 30, 'end_idx': ...</td>\n",
       "    </tr>\n",
       "    <tr>\n",
       "      <th>4</th>\n",
       "      <td>4</td>\n",
       "      <td>플뢰레(Fleuret)는 몸통을 표적으로 하는 찌르기형 경량 무기로, 등도 유효한 ...</td>\n",
       "      <td>{'word': '플뢰레', 'start_idx': 0, 'end_idx': 2, ...</td>\n",
       "      <td>{'word': '찌르기', 'start_idx': 26, 'end_idx': 28...</td>\n",
       "    </tr>\n",
       "    <tr>\n",
       "      <th>...</th>\n",
       "      <td>...</td>\n",
       "      <td>...</td>\n",
       "      <td>...</td>\n",
       "      <td>...</td>\n",
       "    </tr>\n",
       "    <tr>\n",
       "      <th>326</th>\n",
       "      <td>326</td>\n",
       "      <td>늑목(Wall Bar)은 높이 약 2.5m로, 2개의 기둥 사이에 수십 개의 나무를...</td>\n",
       "      <td>{'word': '체조', 'start_idx': 66, 'end_idx': 67,...</td>\n",
       "      <td>{'word': '늑목', 'start_idx': 0, 'end_idx': 1, '...</td>\n",
       "    </tr>\n",
       "    <tr>\n",
       "      <th>327</th>\n",
       "      <td>327</td>\n",
       "      <td>'플립'은 왼쪽발의 후방 안쪽날에서 도약하며, 오른쪽 토 픽에 의해 올려진다.</td>\n",
       "      <td>{'word': '플립', 'start_idx': 1, 'end_idx': 2, '...</td>\n",
       "      <td>{'word': '토 픽', 'start_idx': 30, 'end_idx': 32...</td>\n",
       "    </tr>\n",
       "    <tr>\n",
       "      <th>328</th>\n",
       "      <td>328</td>\n",
       "      <td>펜싱 사범들은 주로 더 무거운 자켓을 사용하는데, 이는 플라스틱 폼으로 이루어져 있...</td>\n",
       "      <td>{'word': '자켓', 'start_idx': 17, 'end_idx': 18,...</td>\n",
       "      <td>{'word': '플라스틱', 'start_idx': 31, 'end_idx': 3...</td>\n",
       "    </tr>\n",
       "    <tr>\n",
       "      <th>329</th>\n",
       "      <td>329</td>\n",
       "      <td>그 중 소위 '5대관'(청도관, 송무관, 무덕관, 지도관, 창무관)이 가장 유명하였...</td>\n",
       "      <td>{'word': '태권도', 'start_idx': 86, 'end_idx': 88...</td>\n",
       "      <td>{'word': ''5대관'', 'start_idx': 7, 'end_idx': 1...</td>\n",
       "    </tr>\n",
       "    <tr>\n",
       "      <th>330</th>\n",
       "      <td>330</td>\n",
       "      <td>그리고 리듬 체조는 1984년 제23회 로스앤젤레스 올림픽 때부터 정식 종목이 되었다.</td>\n",
       "      <td>{'word': '로스앤젤레스 올림픽', 'start_idx': 22, 'end_i...</td>\n",
       "      <td>{'word': '리듬 체조', 'start_idx': 4, 'end_idx': 8...</td>\n",
       "    </tr>\n",
       "  </tbody>\n",
       "</table>\n",
       "<p>331 rows × 4 columns</p>\n",
       "</div>"
      ],
      "text/plain": [
       "      id                                           sentence  \\\n",
       "0      0  뜀뛰기 운동에는 멀리뛰기·높이뛰기·3단뛰기·장대높이뛰기 등이 있는데 내용과 방법이 ...   \n",
       "1      1  앤빌 코러스(Anvil Chorus)는 아령 체조의 하나. 간단한 다리 운동 및 뜀...   \n",
       "2      2  레이백(layback) 스핀은 주로 여성들이 하는 업라이트 스핀으로서 등을 뒤로 하...   \n",
       "3      3         이런 영법은 실제로는 대부분 자유형 종목에서 사용되는 크롤 영법을 가리킨다.   \n",
       "4      4  플뢰레(Fleuret)는 몸통을 표적으로 하는 찌르기형 경량 무기로, 등도 유효한 ...   \n",
       "..   ...                                                ...   \n",
       "326  326  늑목(Wall Bar)은 높이 약 2.5m로, 2개의 기둥 사이에 수십 개의 나무를...   \n",
       "327  327        '플립'은 왼쪽발의 후방 안쪽날에서 도약하며, 오른쪽 토 픽에 의해 올려진다.   \n",
       "328  328  펜싱 사범들은 주로 더 무거운 자켓을 사용하는데, 이는 플라스틱 폼으로 이루어져 있...   \n",
       "329  329  그 중 소위 '5대관'(청도관, 송무관, 무덕관, 지도관, 창무관)이 가장 유명하였...   \n",
       "330  330   그리고 리듬 체조는 1984년 제23회 로스앤젤레스 올림픽 때부터 정식 종목이 되었다.   \n",
       "\n",
       "                                        subject_entity  \\\n",
       "0    {'word': '뜀뛰기', 'start_idx': 0, 'end_idx': 2, ...   \n",
       "1    {'word': '앤빌 코러스(Anvil Chorus)', 'start_idx': ...   \n",
       "2    {'word': '레이백(layback) 스핀', 'start_idx': 0, 'e...   \n",
       "3    {'word': '자유형', 'start_idx': 16, 'end_idx': 18...   \n",
       "4    {'word': '플뢰레', 'start_idx': 0, 'end_idx': 2, ...   \n",
       "..                                                 ...   \n",
       "326  {'word': '체조', 'start_idx': 66, 'end_idx': 67,...   \n",
       "327  {'word': '플립', 'start_idx': 1, 'end_idx': 2, '...   \n",
       "328  {'word': '자켓', 'start_idx': 17, 'end_idx': 18,...   \n",
       "329  {'word': '태권도', 'start_idx': 86, 'end_idx': 88...   \n",
       "330  {'word': '로스앤젤레스 올림픽', 'start_idx': 22, 'end_i...   \n",
       "\n",
       "                                         object_entity  \n",
       "0    {'word': '도움닫기', 'start_idx': 64, 'end_idx': 6...  \n",
       "1    {'word': '율동 체조', 'start_idx': 106, 'end_idx':...  \n",
       "2    {'word': '업라이트 스핀', 'start_idx': 28, 'end_idx'...  \n",
       "3    {'word': '크롤 영법', 'start_idx': 30, 'end_idx': ...  \n",
       "4    {'word': '찌르기', 'start_idx': 26, 'end_idx': 28...  \n",
       "..                                                 ...  \n",
       "326  {'word': '늑목', 'start_idx': 0, 'end_idx': 1, '...  \n",
       "327  {'word': '토 픽', 'start_idx': 30, 'end_idx': 32...  \n",
       "328  {'word': '플라스틱', 'start_idx': 31, 'end_idx': 3...  \n",
       "329  {'word': ''5대관'', 'start_idx': 7, 'end_idx': 1...  \n",
       "330  {'word': '리듬 체조', 'start_idx': 4, 'end_idx': 8...  \n",
       "\n",
       "[331 rows x 4 columns]"
      ]
     },
     "execution_count": 140,
     "metadata": {},
     "output_type": "execute_result"
    }
   ],
   "source": [
    "df"
   ]
  },
  {
   "cell_type": "code",
   "execution_count": 141,
   "metadata": {},
   "outputs": [],
   "source": [
    "assert len(reject_1) == 0 and len(reject_2) == 0 and len(reject_3) == 0, 'wrong tagging'"
   ]
  },
  {
   "cell_type": "code",
   "execution_count": 142,
   "metadata": {},
   "outputs": [],
   "source": [
    "df.to_csv('./save.csv', index=False)"
   ]
  }
 ],
 "metadata": {
  "interpreter": {
   "hash": "31f2aee4e71d21fbe5cf8b01ff0e069b9275f58929596ceb00d14d90e3e16cd6"
  },
  "kernelspec": {
   "display_name": "Python 3.6.9 64-bit",
   "language": "python",
   "name": "python3"
  },
  "language_info": {
   "codemirror_mode": {
    "name": "ipython",
    "version": 3
   },
   "file_extension": ".py",
   "mimetype": "text/x-python",
   "name": "python",
   "nbconvert_exporter": "python",
   "pygments_lexer": "ipython3",
   "version": "3.8.5"
  },
  "orig_nbformat": 4
 },
 "nbformat": 4,
 "nbformat_minor": 2
}
